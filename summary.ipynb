{
 "cells": [
  {
   "cell_type": "code",
   "execution_count": 3,
   "metadata": {},
   "outputs": [],
   "source": [
    "import pmdarima as pm\n",
    "import pickle\n",
    "import pandas as pd"
   ]
  },
  {
   "cell_type": "markdown",
   "metadata": {},
   "source": [
    "## import model_combined, model_arima_2016, model_prophet"
   ]
  },
  {
   "cell_type": "code",
   "execution_count": null,
   "metadata": {},
   "outputs": [],
   "source": [
    "with open('model_combined.pkl', 'rb') as pkl:\n",
    "    model_combined = pickle.load(pkl)\n",
    "with open('model_arima_2016.pkl', 'rb') as pkl:\n",
    "    model_arima_p = pickle.load(pkl)\n",
    "    \n",
    "from prophet.serialize import model_to_json, model_from_json\n",
    "\n",
    "with open('model_prophet.json', 'r') as fin:\n",
    "    model_prophet = model_from_json(fin.read())  # Load model\n"
   ]
  },
  {
   "cell_type": "markdown",
   "metadata": {},
   "source": [
    "## import future data"
   ]
  },
  {
   "cell_type": "code",
   "execution_count": 30,
   "metadata": {},
   "outputs": [
    {
     "data": {
      "text/html": [
       "<div>\n",
       "<style scoped>\n",
       "    .dataframe tbody tr th:only-of-type {\n",
       "        vertical-align: middle;\n",
       "    }\n",
       "\n",
       "    .dataframe tbody tr th {\n",
       "        vertical-align: top;\n",
       "    }\n",
       "\n",
       "    .dataframe thead th {\n",
       "        text-align: right;\n",
       "    }\n",
       "</style>\n",
       "<table border=\"1\" class=\"dataframe\">\n",
       "  <thead>\n",
       "    <tr style=\"text-align: right;\">\n",
       "      <th></th>\n",
       "      <th>timestep</th>\n",
       "      <th>day_of_year_sin</th>\n",
       "      <th>day_of_year_cos</th>\n",
       "      <th>lag1</th>\n",
       "      <th>lag2</th>\n",
       "      <th>lag3</th>\n",
       "      <th>lag4</th>\n",
       "      <th>lag5</th>\n",
       "    </tr>\n",
       "  </thead>\n",
       "  <tbody>\n",
       "    <tr>\n",
       "      <th>2022-10-01</th>\n",
       "      <td>53599.0</td>\n",
       "      <td>-0.999991</td>\n",
       "      <td>0.004304</td>\n",
       "      <td>-2.54998</td>\n",
       "      <td>-3.809203</td>\n",
       "      <td>-4.167506</td>\n",
       "      <td>-2.524842</td>\n",
       "      <td>-0.281163</td>\n",
       "    </tr>\n",
       "    <tr>\n",
       "      <th>2022-10-02</th>\n",
       "      <td>53600.0</td>\n",
       "      <td>-0.999769</td>\n",
       "      <td>0.021516</td>\n",
       "      <td>0.00000</td>\n",
       "      <td>-2.549980</td>\n",
       "      <td>-3.809203</td>\n",
       "      <td>-4.167506</td>\n",
       "      <td>-2.524842</td>\n",
       "    </tr>\n",
       "  </tbody>\n",
       "</table>\n",
       "</div>"
      ],
      "text/plain": [
       "            timestep  day_of_year_sin  day_of_year_cos     lag1      lag2  \\\n",
       "2022-10-01   53599.0        -0.999991         0.004304 -2.54998 -3.809203   \n",
       "2022-10-02   53600.0        -0.999769         0.021516  0.00000 -2.549980   \n",
       "\n",
       "                lag3      lag4      lag5  \n",
       "2022-10-01 -4.167506 -2.524842 -0.281163  \n",
       "2022-10-02 -3.809203 -4.167506 -2.524842  "
      ]
     },
     "execution_count": 30,
     "metadata": {},
     "output_type": "execute_result"
    }
   ],
   "source": [
    "df_future = pd.read_csv('df_future.csv', parse_dates=True, index_col=0)\n",
    "df_future"
   ]
  },
  {
   "cell_type": "code",
   "execution_count": 31,
   "metadata": {},
   "outputs": [
    {
     "data": {
      "text/html": [
       "<div>\n",
       "<style scoped>\n",
       "    .dataframe tbody tr th:only-of-type {\n",
       "        vertical-align: middle;\n",
       "    }\n",
       "\n",
       "    .dataframe tbody tr th {\n",
       "        vertical-align: top;\n",
       "    }\n",
       "\n",
       "    .dataframe thead th {\n",
       "        text-align: right;\n",
       "    }\n",
       "</style>\n",
       "<table border=\"1\" class=\"dataframe\">\n",
       "  <thead>\n",
       "    <tr style=\"text-align: right;\">\n",
       "      <th></th>\n",
       "      <th>ds</th>\n",
       "    </tr>\n",
       "  </thead>\n",
       "  <tbody>\n",
       "    <tr>\n",
       "      <th>0</th>\n",
       "      <td>2022-10-01</td>\n",
       "    </tr>\n",
       "    <tr>\n",
       "      <th>1</th>\n",
       "      <td>2022-10-02</td>\n",
       "    </tr>\n",
       "  </tbody>\n",
       "</table>\n",
       "</div>"
      ],
      "text/plain": [
       "          ds\n",
       "0 2022-10-01\n",
       "1 2022-10-02"
      ]
     },
     "execution_count": 31,
     "metadata": {},
     "output_type": "execute_result"
    }
   ],
   "source": [
    "ds = pd.date_range(start='2022-10-01', periods=2, freq='D')\n",
    "df_future_prophet = pd.DataFrame(data = ds, columns=['ds'])\n",
    "df_future_prophet"
   ]
  },
  {
   "cell_type": "markdown",
   "metadata": {},
   "source": [
    "## compare prediction"
   ]
  },
  {
   "cell_type": "code",
   "execution_count": 48,
   "metadata": {},
   "outputs": [
    {
     "data": {
      "text/plain": [
       "array([11.25572979, 13.16078932])"
      ]
     },
     "execution_count": 48,
     "metadata": {},
     "output_type": "execute_result"
    }
   ],
   "source": [
    "model_combined.predict(df_future) "
   ]
  },
  {
   "cell_type": "code",
   "execution_count": 49,
   "metadata": {},
   "outputs": [
    {
     "data": {
      "text/plain": [
       "2022-10-31    10.586408\n",
       "Freq: M, dtype: float64"
      ]
     },
     "execution_count": 49,
     "metadata": {},
     "output_type": "execute_result"
    }
   ],
   "source": [
    "# forecast for the next month\n",
    "model_arima_p.predict(1)"
   ]
  },
  {
   "cell_type": "code",
   "execution_count": 50,
   "metadata": {},
   "outputs": [
    {
     "data": {
      "text/html": [
       "<div>\n",
       "<style scoped>\n",
       "    .dataframe tbody tr th:only-of-type {\n",
       "        vertical-align: middle;\n",
       "    }\n",
       "\n",
       "    .dataframe tbody tr th {\n",
       "        vertical-align: top;\n",
       "    }\n",
       "\n",
       "    .dataframe thead th {\n",
       "        text-align: right;\n",
       "    }\n",
       "</style>\n",
       "<table border=\"1\" class=\"dataframe\">\n",
       "  <thead>\n",
       "    <tr style=\"text-align: right;\">\n",
       "      <th></th>\n",
       "      <th>ds</th>\n",
       "      <th>yhat</th>\n",
       "    </tr>\n",
       "  </thead>\n",
       "  <tbody>\n",
       "    <tr>\n",
       "      <th>0</th>\n",
       "      <td>2022-10-01</td>\n",
       "      <td>13.904953</td>\n",
       "    </tr>\n",
       "    <tr>\n",
       "      <th>1</th>\n",
       "      <td>2022-10-02</td>\n",
       "      <td>13.770986</td>\n",
       "    </tr>\n",
       "  </tbody>\n",
       "</table>\n",
       "</div>"
      ],
      "text/plain": [
       "          ds       yhat\n",
       "0 2022-10-01  13.904953\n",
       "1 2022-10-02  13.770986"
      ]
     },
     "execution_count": 50,
     "metadata": {},
     "output_type": "execute_result"
    }
   ],
   "source": [
    "model_prophet.predict(df_future_prophet)[['ds','yhat']]"
   ]
  },
  {
   "cell_type": "code",
   "execution_count": 69,
   "metadata": {},
   "outputs": [
    {
     "data": {
      "text/html": [
       "<div>\n",
       "<style scoped>\n",
       "    .dataframe tbody tr th:only-of-type {\n",
       "        vertical-align: middle;\n",
       "    }\n",
       "\n",
       "    .dataframe tbody tr th {\n",
       "        vertical-align: top;\n",
       "    }\n",
       "\n",
       "    .dataframe thead th {\n",
       "        text-align: right;\n",
       "    }\n",
       "</style>\n",
       "<table border=\"1\" class=\"dataframe\">\n",
       "  <thead>\n",
       "    <tr style=\"text-align: right;\">\n",
       "      <th></th>\n",
       "      <th>yhat</th>\n",
       "    </tr>\n",
       "  </thead>\n",
       "  <tbody>\n",
       "    <tr>\n",
       "      <th>0</th>\n",
       "      <td>13.90</td>\n",
       "    </tr>\n",
       "    <tr>\n",
       "      <th>1</th>\n",
       "      <td>13.77</td>\n",
       "    </tr>\n",
       "  </tbody>\n",
       "</table>\n",
       "</div>"
      ],
      "text/plain": [
       "    yhat\n",
       "0  13.90\n",
       "1  13.77"
      ]
     },
     "execution_count": 69,
     "metadata": {},
     "output_type": "execute_result"
    }
   ],
   "source": [
    "model_prophet.predict(df_future_prophet)[['yhat']].round(2)"
   ]
  },
  {
   "cell_type": "code",
   "execution_count": 73,
   "metadata": {},
   "outputs": [
    {
     "name": "stdout",
     "output_type": "stream",
     "text": [
      "\n",
      "Temperature predition from combined model: \n",
      "    2022-10-01 is 11.26\n",
      "    2022-10-02 is 13.16\n",
      "\n",
      "Temperature predition from Prophet model: \n",
      "    2022-10-01 is 13.9\n",
      "    2022-10-02 is 13.77\n",
      "\n",
      "Temperature predition from ARIMA model:\n",
      "    2022-10 is 10.59\n"
     ]
    }
   ],
   "source": [
    "pred_combi = model_combined.predict(df_future).round(2)  \n",
    "pred_arima = model_arima_p.predict(1).values[0].round(2) \n",
    "pred_prophet =  model_prophet.predict(df_future_prophet)[['yhat']].round(2)\n",
    "\n",
    "print(f'''\n",
    "Temperature predition from combined model: \n",
    "    2022-10-01 is {pred_combi[0]}\n",
    "    2022-10-02 is {pred_combi[1]}\n",
    "\n",
    "Temperature predition from Prophet model: \n",
    "    2022-10-01 is {pred_prophet.loc[0,'yhat']}\n",
    "    2022-10-02 is {pred_prophet.loc[1,'yhat']}\n",
    "\n",
    "Temperature predition from ARIMA model:\n",
    "    2022-10 is {pred_arima}''')\n"
   ]
  }
 ],
 "metadata": {
  "kernelspec": {
   "display_name": "Python 3.9.7 64-bit",
   "language": "python",
   "name": "python3"
  },
  "language_info": {
   "codemirror_mode": {
    "name": "ipython",
    "version": 3
   },
   "file_extension": ".py",
   "mimetype": "text/x-python",
   "name": "python",
   "nbconvert_exporter": "python",
   "pygments_lexer": "ipython3",
   "version": "3.9.7"
  },
  "orig_nbformat": 4,
  "vscode": {
   "interpreter": {
    "hash": "aee8b7b246df8f9039afb4144a1f6fd8d2ca17a180786b69acc140d282b71a49"
   }
  }
 },
 "nbformat": 4,
 "nbformat_minor": 2
}
